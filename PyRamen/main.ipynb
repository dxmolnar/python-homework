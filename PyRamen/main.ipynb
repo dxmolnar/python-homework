{
 "cells": [
  {
   "cell_type": "code",
   "execution_count": 5,
   "id": "8ad59221-e4c2-4230-b602-5c60319b0585",
   "metadata": {
    "tags": []
   },
   "outputs": [
    {
     "name": "stdout",
     "output_type": "stream",
     "text": [
      "Report printed!\n"
     ]
    }
   ],
   "source": [
    "import csv\n",
    "from pathlib import Path\n",
    "\n",
    "# Setting the file paths\n",
    "menu_filepath = Path(\"Resources/menu_data.csv\")\n",
    "sales_filepath = Path(\"Resources/sales_data.csv\")\n",
    "\n",
    "# Reading and processing the menu data\n",
    "menu = {}\n",
    "with open(menu_filepath, \"r\") as file:\n",
    "    reader = csv.reader(file)\n",
    "    next(reader)  # skip header row\n",
    "    for row in reader:\n",
    "        name, _, _, price, cost = row\n",
    "        menu[name] = {\"price\": float(price), \"cost\": float(cost)}\n",
    "\n",
    "# Reading and processing sales data\n",
    "report = {}\n",
    "with open(sales_filepath, \"r\") as file:\n",
    "    reader = csv.reader(file)\n",
    "    next(reader)  # skip header row\n",
    "    for row in reader:\n",
    "        _, _, _, quantity, sales_item = row\n",
    "        quantity = int(quantity)\n",
    "        \n",
    "        if sales_item in menu:\n",
    "            price = menu[sales_item]['price']\n",
    "            cost = menu[sales_item]['cost']\n",
    "            profit = price - cost\n",
    "            \n",
    "            if sales_item not in report:\n",
    "                report[sales_item] = {\"01-count\": 0, \"02-revenue\": 0, \"03-cogs\": 0, \"04-profit\": 0}\n",
    "            \n",
    "            report[sales_item][\"01-count\"] += quantity\n",
    "            report[sales_item][\"02-revenue\"] += price * quantity\n",
    "            report[sales_item][\"03-cogs\"] += cost * quantity\n",
    "            report[sales_item][\"04-profit\"] += profit * quantity\n",
    "        else:\n",
    "            print(f\"{sales_item} does not equal any item in the menu! NO MATCH!\")\n",
    "\n",
    "# Writing the report to a text file\n",
    "with open(\"report.txt\", \"w\") as file:\n",
    "    for key, value in report.items():\n",
    "        file.write(f\"{key} {value}\\n\")\n",
    "    print(\"Report printed!\")\n"
   ]
  },
  {
   "cell_type": "code",
   "execution_count": null,
   "id": "f8412954-e477-4c9a-b732-00c8f25481ac",
   "metadata": {},
   "outputs": [],
   "source": []
  }
 ],
 "metadata": {
  "kernelspec": {
   "display_name": "Python 3 (ipykernel)",
   "language": "python",
   "name": "python3"
  },
  "language_info": {
   "codemirror_mode": {
    "name": "ipython",
    "version": 3
   },
   "file_extension": ".py",
   "mimetype": "text/x-python",
   "name": "python",
   "nbconvert_exporter": "python",
   "pygments_lexer": "ipython3",
   "version": "3.10.12"
  }
 },
 "nbformat": 4,
 "nbformat_minor": 5
}
