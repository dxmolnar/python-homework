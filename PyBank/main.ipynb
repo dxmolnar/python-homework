{
 "cells": [
  {
   "cell_type": "code",
   "execution_count": 35,
   "id": "4e1b3c56-274f-4c51-9433-be6f6970e24d",
   "metadata": {
    "tags": []
   },
   "outputs": [
    {
     "name": "stdout",
     "output_type": "stream",
     "text": [
      "Financial Analysis Report generated!\n",
      "See .txt file in folder!\n"
     ]
    }
   ],
   "source": [
    "import os\n",
    "import csv\n",
    "\n",
    "#Defining the file path\n",
    "csv_path = \"budget_data.csv\"\n",
    "\n",
    "tot_mos = 0\n",
    "net_total = 0\n",
    "changes = []\n",
    "Profits = []\n",
    "Losses = []\n",
    "previous_value = None\n",
    "\n",
    "# Reading the CSV data\n",
    "with open(csv_path, 'r') as file:\n",
    "    csvreader = csv.reader(file)\n",
    "    \n",
    "    # Skipping the header\n",
    "    next(csvreader)\n",
    "    \n",
    "    # Iterating over each row in the CSV, extracting date and converting profit/loss value to an integer.\n",
    "    for row in csvreader:\n",
    "        date, profit_loss = row\n",
    "        profit_loss = int(profit_loss)\n",
    "\n",
    "        # Calculating total months and net total\n",
    "        tot_mos += 1\n",
    "        net_total += profit_loss\n",
    "\n",
    "        # Calculating changes\n",
    "        if previous_value is not None:\n",
    "            change = profit_loss - previous_value\n",
    "            changes.append(change)\n",
    "        previous_value = profit_loss\n",
    "\n",
    "        # Segregating profits and losses\n",
    "        if profit_loss > 0:\n",
    "            Profits.append(profit_loss)\n",
    "        elif profit_loss < 0:\n",
    "            Losses.append(profit_loss)\n",
    "\n",
    "# Calculating other metrics\n",
    "avg_changes = sum(changes) / len(changes)\n",
    "g_i_p = max(changes)\n",
    "g_l_d = min(changes)\n",
    "highest_month_index = changes.index(g_i_p) + 1\n",
    "lowest_month_index = changes.index(g_l_d) + 1\n",
    "\n",
    "with open(csv_path, 'r') as file:\n",
    "    csvreader = list(csv.reader(file))\n",
    "    highest_month = csvreader[highest_month_index][0]\n",
    "    lowest_month = csvreader[lowest_month_index][0]\n",
    "\n",
    "# Writing the report to a .txt file\n",
    "with open(\"financial_report.txt\", \"w\") as file:\n",
    "    file.write(\"Financial Analysis\\n\")\n",
    "    file.write(\"----------------------------\\n\")\n",
    "    file.write(f\"Total Months: {tot_mos}\\n\")\n",
    "    file.write(f\"Total: ${net_total}\\n\")\n",
    "    file.write(f\"Average  Change: ${avg_changes:.2f}\\n\")\n",
    "    file.write(f\"Greatest Increase in Profits: {highest_month} (${g_i_p})\\n\")\n",
    "    file.write(f\"Greatest Decrease in Profits: {lowest_month} (${g_l_d})\\n\")\n",
    "\n",
    "print(\"Financial Analysis Report generated!\\nSee .txt file in folder!\")\n"
   ]
  },
  {
   "cell_type": "code",
   "execution_count": null,
   "id": "bf4dceca-9b15-4f15-8bd7-cfcdf6f67571",
   "metadata": {},
   "outputs": [],
   "source": []
  }
 ],
 "metadata": {
  "kernelspec": {
   "display_name": "Python 3 (ipykernel)",
   "language": "python",
   "name": "python3"
  },
  "language_info": {
   "codemirror_mode": {
    "name": "ipython",
    "version": 3
   },
   "file_extension": ".py",
   "mimetype": "text/x-python",
   "name": "python",
   "nbconvert_exporter": "python",
   "pygments_lexer": "ipython3",
   "version": "3.10.12"
  }
 },
 "nbformat": 4,
 "nbformat_minor": 5
}
