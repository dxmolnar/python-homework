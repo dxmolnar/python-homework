{
 "cells": [
  {
   "cell_type": "code",
   "execution_count": 129,
   "id": "2bd72e92-dfae-4caa-9919-b0cd00a8ff6b",
   "metadata": {},
   "outputs": [],
   "source": [
    "# Module 2 Assignment \n",
    "import csv \n",
    "import pandas as pd\n",
    "from pathlib import Path\n",
    "%matplotlib inline"
   ]
  },
  {
   "cell_type": "code",
   "execution_count": 130,
   "id": "c0554895-3633-417c-9f0f-a35172cc8135",
   "metadata": {},
   "outputs": [],
   "source": [
    "# defining file path\n",
    "csv_path = Path(\"budget_data.csv\")\n",
    "csv_data = pd.read_csv(csv_path)"
   ]
  },
  {
   "cell_type": "code",
   "execution_count": 131,
   "id": "fb82330f-b8d4-433e-b0ad-00640aa10eba",
   "metadata": {},
   "outputs": [
    {
     "data": {
      "text/plain": [
       "(86, 2)"
      ]
     },
     "execution_count": 131,
     "metadata": {},
     "output_type": "execute_result"
    }
   ],
   "source": [
    "# giving the array a range or 2 columns\n",
    "csv_data.shape"
   ]
  },
  {
   "cell_type": "code",
   "execution_count": 132,
   "id": "baf80881-0975-42d9-9fb0-6c07ed17e3b0",
   "metadata": {},
   "outputs": [],
   "source": [
    "tot_mos = csv_data.shape[0]"
   ]
  },
  {
   "cell_type": "code",
   "execution_count": 133,
   "id": "625bd95e-f1c8-4395-94cb-832a8bd61f9e",
   "metadata": {},
   "outputs": [
    {
     "data": {
      "text/html": [
       "<div>\n",
       "<style scoped>\n",
       "    .dataframe tbody tr th:only-of-type {\n",
       "        vertical-align: middle;\n",
       "    }\n",
       "\n",
       "    .dataframe tbody tr th {\n",
       "        vertical-align: top;\n",
       "    }\n",
       "\n",
       "    .dataframe thead th {\n",
       "        text-align: right;\n",
       "    }\n",
       "</style>\n",
       "<table border=\"1\" class=\"dataframe\">\n",
       "  <thead>\n",
       "    <tr style=\"text-align: right;\">\n",
       "      <th></th>\n",
       "      <th>Date</th>\n",
       "      <th>Profit/Losses</th>\n",
       "    </tr>\n",
       "  </thead>\n",
       "  <tbody>\n",
       "    <tr>\n",
       "      <th>0</th>\n",
       "      <td>Jan-2010</td>\n",
       "      <td>867884</td>\n",
       "    </tr>\n",
       "    <tr>\n",
       "      <th>1</th>\n",
       "      <td>Feb-2010</td>\n",
       "      <td>984655</td>\n",
       "    </tr>\n",
       "    <tr>\n",
       "      <th>2</th>\n",
       "      <td>Mar-2010</td>\n",
       "      <td>322013</td>\n",
       "    </tr>\n",
       "    <tr>\n",
       "      <th>3</th>\n",
       "      <td>Apr-2010</td>\n",
       "      <td>-69417</td>\n",
       "    </tr>\n",
       "    <tr>\n",
       "      <th>4</th>\n",
       "      <td>May-2010</td>\n",
       "      <td>310503</td>\n",
       "    </tr>\n",
       "    <tr>\n",
       "      <th>5</th>\n",
       "      <td>Jun-2010</td>\n",
       "      <td>522857</td>\n",
       "    </tr>\n",
       "    <tr>\n",
       "      <th>6</th>\n",
       "      <td>Jul-2010</td>\n",
       "      <td>1033096</td>\n",
       "    </tr>\n",
       "    <tr>\n",
       "      <th>7</th>\n",
       "      <td>Aug-2010</td>\n",
       "      <td>604885</td>\n",
       "    </tr>\n",
       "    <tr>\n",
       "      <th>8</th>\n",
       "      <td>Sep-2010</td>\n",
       "      <td>-216386</td>\n",
       "    </tr>\n",
       "    <tr>\n",
       "      <th>9</th>\n",
       "      <td>Oct-2010</td>\n",
       "      <td>477532</td>\n",
       "    </tr>\n",
       "    <tr>\n",
       "      <th>10</th>\n",
       "      <td>Nov-2010</td>\n",
       "      <td>893810</td>\n",
       "    </tr>\n",
       "  </tbody>\n",
       "</table>\n",
       "</div>"
      ],
      "text/plain": [
       "        Date  Profit/Losses\n",
       "0   Jan-2010         867884\n",
       "1   Feb-2010         984655\n",
       "2   Mar-2010         322013\n",
       "3   Apr-2010         -69417\n",
       "4   May-2010         310503\n",
       "5   Jun-2010         522857\n",
       "6   Jul-2010        1033096\n",
       "7   Aug-2010         604885\n",
       "8   Sep-2010        -216386\n",
       "9   Oct-2010         477532\n",
       "10  Nov-2010         893810"
      ]
     },
     "execution_count": 133,
     "metadata": {},
     "output_type": "execute_result"
    }
   ],
   "source": [
    "# plotting the top 11 datasets from index 0-10 \n",
    "csv_data.head(11)"
   ]
  },
  {
   "cell_type": "code",
   "execution_count": 134,
   "id": "2aac99f1-1a1d-4093-987c-fd69e6a020dd",
   "metadata": {},
   "outputs": [],
   "source": [
    "# calculating the total with the .sum function\n",
    "\n",
    "total = f\"${csv_data['Profit/Losses'].sum()}\""
   ]
  },
  {
   "cell_type": "code",
   "execution_count": 135,
   "id": "2d87a56d-1b84-4aad-b4e6-0cb10f50798a",
   "metadata": {},
   "outputs": [],
   "source": [
    "# calculating the average with the .mean function \n",
    "\n",
    "avg_changes = csv_data['Profit/Losses'].mean()\n",
    "avg_changes = round(avg_changes, 0)"
   ]
  },
  {
   "cell_type": "code",
   "execution_count": 146,
   "id": "39b59d14-d84b-4169-ae07-1054de2f4533",
   "metadata": {},
   "outputs": [],
   "source": [
    "# adding values those that are >0 to the Profits list and values that are <0 to the Losses list. \n",
    "\n",
    "Profits = []\n",
    "Losses =  []\n",
    "for number in csv_data['Profit/Losses']:\n",
    "    if number > 0:\n",
    "        Profits.append(number)\n",
    "    elif number < 0:\n",
    "        Losses.append(number)\n",
    "        \n",
    "#defining Greatest Increase in Profits (g_i_p) by deducting the smallest amount from the highest amount. \n",
    "g_i_p = max(Profits) - min(Profits) \n",
    "highest_month = 0\n",
    "\n",
    "#defining Greatest Decrease in Profits (g_l_d) by deducting the smallest amount from the highest amount. \n",
    "g_l_d = max(Losses) - min(Losses)\n",
    "lowest_month = 0"
   ]
  },
  {
   "cell_type": "code",
   "execution_count": 147,
   "id": "190089fb-27d5-47d2-b41c-4deaac103d8e",
   "metadata": {},
   "outputs": [],
   "source": [
    "# without looping we iterate over the dataset and searching for the highest profit, highest losses data as defined above. \n",
    "\n",
    "for index, row in csv_data.iterrows():\n",
    "    if row['Profit/Losses'] == max(Profits):\n",
    "           highest_month = row[\"Date\"]\n",
    "    if row['Profit/Losses'] == min(Losses):\n",
    "            lowest_month = row[\"Date\"]"
   ]
  },
  {
   "cell_type": "code",
   "execution_count": 148,
   "id": "53cfb30f-8ba8-49b9-9d9e-f95058bb8a2a",
   "metadata": {},
   "outputs": [],
   "source": [
    "# creating the text file with Financial Analysis, Total Month, Total, Average Change, g_i_p, and g_d_p fields and their correspon\\nding variable as defined above.   \n",
    "\n",
    "with open(\"financial_report.txt\", \"w\") as file:\n",
    "    file.write(f\" Financial Analysis\")\n",
    "    file.write(\"\\n\"f\" ________________________\")\n",
    "    file.write(\"\\n\"f\" Total Month: {tot_mos}\")\n",
    "    file.write(\"\\n\"f\" Total: {total}\")\n",
    "    file.write(\"\\n\"f\" Average Change: ${avg_changes}\")\n",
    "    file.write(\"\\n\"f\" Greatest Increase in Profts: {highest_month} (${g_i_p})\")\n",
    "    file.write(\"\\n\"f\" Greatest Decrease in Profits: {lowest_month} (${g_l_d})\")\n",
    "file.close()"
   ]
  },
  {
   "cell_type": "code",
   "execution_count": null,
   "id": "6eaac072-08d7-4b43-a96e-887930e3e686",
   "metadata": {},
   "outputs": [],
   "source": []
  },
  {
   "cell_type": "code",
   "execution_count": null,
   "id": "916ff974-51c5-4c98-a65b-f3770db186b2",
   "metadata": {},
   "outputs": [],
   "source": []
  }
 ],
 "metadata": {
  "kernelspec": {
   "display_name": "Python 3 (ipykernel)",
   "language": "python",
   "name": "python3"
  },
  "language_info": {
   "codemirror_mode": {
    "name": "ipython",
    "version": 3
   },
   "file_extension": ".py",
   "mimetype": "text/x-python",
   "name": "python",
   "nbconvert_exporter": "python",
   "pygments_lexer": "ipython3",
   "version": "3.9.16"
  }
 },
 "nbformat": 4,
 "nbformat_minor": 5
}
